{
 "cells": [
  {
   "cell_type": "markdown",
   "metadata": {},
   "source": [
    "# Week 10 Discussion\n",
    "\n",
    "## Infographic\n",
    "\n",
    "* [Racial Discrimination in Auto Insurance Prices][propublica]\n",
    "\n",
    "[propublica]: https://www.propublica.org/article/minority-neighborhoods-higher-car-insurance-premiums-methodology\n",
    "\n",
    "## Links\n",
    "\n",
    "* [Learn X in Y Minutes, X = JavaScript][js-intro] -- a brief intro to JavaScript\n",
    "* [MDN JavaScript Guide][js-guide] -- a detailed guide to JavaScript\n",
    "* [MDN Learning Materials][web-intro] -- more information about web development\n",
    "* [UC Berkeley Library's GeoData][geodata]\n",
    "\n",
    "Please fill out TA evals!\n",
    "\n",
    "[js-intro]: https://learnxinyminutes.com/docs/javascript/\n",
    "[js-guide]: https://developer.mozilla.org/en-US/docs/Web/JavaScript/Guide\n",
    "[web-intro]: https://developer.mozilla.org/en-US/docs/Learn\n",
    "[geodata]: https://geodata.lib.berkeley.edu/"
   ]
  },
  {
   "cell_type": "markdown",
   "metadata": {},
   "source": [
    "## Web Visualization\n",
    "\n",
    "Web browsers are ubiquitous and support interactivity (via JavaScript), so the web is an excellent platform for visualizations.\n",
    "\n",
    "Popular JavaScript libraries used for web visualizations:\n",
    "\n",
    "<table><tr>\n",
    "  <th>Library</th><th>Based On</th><th>Python Support</th><th>Description</th>\n",
    "</tr><tr>\n",
    "  <td>[D3.js](https://d3js.org/)</td><td>-</td><td>[mpld3](http://mpld3.github.io/)</td>\n",
    "  <td>\n",
    "    Short for Data-Driven Documents, D3 allows you to bind data to HTML tags.\n",
    "    In other words, you can use data to control the structure and style of a\n",
    "    web page.\n",
    "  </td>\n",
    "</tr><tr>\n",
    "  <td>[Vega](https://vega.github.io/vega/)</td><td>D3.js</td><td>-</td>\n",
    "  <td>\n",
    "    A visualization grammar (the same idea as ggplot) built on top of D3. You\n",
    "    write a description of what you want in JSON, and Vega produces a D3\n",
    "    visualization.\n",
    "  </td>\n",
    "</tr><tr>\n",
    "  <td>[Vega Lite](https://vega.github.io/vega-lite/)</td><td>Vega</td><td>[altair](https://altair-viz.github.io/)</td>\n",
    "  <td>\n",
    "    A visualization grammar for _common statistical graphics_ built on top of\n",
    "    Vega. You write a JSON description which is translated to Vega and then D3.\n",
    "  </td>\n",
    "</tr><tr>\n",
    "  <td>[plotly.js](https://plot.ly/javascript/)</td><td>D3.js</td><td>[plotly](https://plot.ly/python/)</td>\n",
    "  <td>\n",
    "    A visualization library that supports the Python, R, Julia, and MATLAB\n",
    "    plotly packages. Although this is an open-source library, development\n",
    "    is controlled by Plotly (a private company).\n",
    "  </td>\n",
    "</tr><tr>\n",
    "  <td>[BokehJS](http://bokeh.pydata.org/en/latest/docs/dev_guide/bokehjs.html)</td><td>-</td><td>[bokeh](http://bokeh.pydata.org/)</td>\n",
    "  <td>\n",
    "    A visualization library designed to be used from other (non-JavaScript)\n",
    "    languages. You write Python, R, or Scala code to produce visualizations.\n",
    "  </td>\n",
    "</tr><tr>\n",
    "  <td>[Leaflet](http://leafletjs.com/)</td><td>-</td><td>[folium](https://github.com/python-visualization/folium)</td>\n",
    "  <td>\n",
    "    An interactive maps library that can display GeoJSON data.\n",
    "   </td>\n",
    "</tr></table>\n",
    "\n",
    "Also worth mentioning is the [pygal](http://www.pygal.org/en/stable/) package, which produces SVG plots that can be viewed in a web browser but do not require any JavaScript library."
   ]
  },
  {
   "cell_type": "markdown",
   "metadata": {},
   "source": [
    "## Static Visualizations"
   ]
  },
  {
   "cell_type": "code",
   "execution_count": null,
   "metadata": {
    "collapsed": false
   },
   "outputs": [],
   "source": [
    "import pandas as pd\n",
    "\n",
    "dogs = pd.read_feather(\"data/dogs.feather\")\n",
    "dogs.head()"
   ]
  },
  {
   "cell_type": "markdown",
   "metadata": {},
   "source": [
    "To display Bokeh plots in a Jupyter notebook, you must first call the setup function `output_notebook()`. You don't have to do this if you're going to save your plots to HTML instead."
   ]
  },
  {
   "cell_type": "code",
   "execution_count": null,
   "metadata": {
    "collapsed": false
   },
   "outputs": [],
   "source": [
    "import bokeh.io # conda install bokeh\n",
    "\n",
    "bokeh.io.output_notebook()"
   ]
  },
  {
   "cell_type": "markdown",
   "metadata": {},
   "source": [
    "Now we can make a plot. The `bokeh.charts` submodule has functions to create common statistical plots. You can also use functions in the `bokeh.models` submodule to fine-tune plots.\n",
    "\n",
    "Bokeh's plotting functions work with data frames in [tidy](http://vita.had.co.nz/papers/tidy-data.pdf) form."
   ]
  },
  {
   "cell_type": "code",
   "execution_count": null,
   "metadata": {},
   "outputs": [],
   "source": [
    "from bokeh.plotting import figure, show\n",
    "\n",
    "#colormap = {'setosa': 'red', 'versicolor': 'green', 'virginica': 'blue'}\n",
    "#colors = [colormap[x] for x in flowers['species']]\n",
    "\n",
    "p = figure(title = \"Dogs\", width = 300, height = 300)\n",
    "p.xaxis.axis_label = \"Datadog Score\"\n",
    "p.yaxis.axis_label = \"Popularity\"\n",
    "\n",
    "p.scatter(\"datadog\", \"popularity\", source = dogs, fill_alpha = 0.2)\n",
    "\n",
    "show(p)\n",
    "\n",
    "# Optional: save the plot to a standalone HTML file.\n",
    "#bokeh.io.output_file(\"MY_PLOT.html\")"
   ]
  },
  {
   "cell_type": "markdown",
   "metadata": {},
   "source": [
    "## Maps"
   ]
  },
  {
   "cell_type": "code",
   "execution_count": null,
   "metadata": {
    "collapsed": false,
    "scrolled": false
   },
   "outputs": [],
   "source": [
    "import folium\n",
    "\n",
    "# Make a map.\n",
    "m = folium.Map(location = [45.5236, -122.6750])\n",
    "\n",
    "# Optional: set up a Figure to control the size of the map.\n",
    "fig = folium.Figure(width = 600, height = 200)\n",
    "fig.add_child(m)\n",
    "\n",
    "# Optional: save the map to a standalone HTML file.\n",
    "# fig.save(\"MY_MAP.html\")"
   ]
  },
  {
   "cell_type": "markdown",
   "metadata": {},
   "source": [
    "The dataset about recent restaurant inspections in Yolo County is available [here](http://anson.ucdavis.edu/~nulle/yolo_food.feather)"
   ]
  },
  {
   "cell_type": "code",
   "execution_count": null,
   "metadata": {},
   "outputs": [],
   "source": [
    "food = pd.read_feather(\"data/yolo_food.feather\")\n",
    "food.head()"
   ]
  },
  {
   "cell_type": "code",
   "execution_count": null,
   "metadata": {},
   "outputs": [],
   "source": [
    "food.shape"
   ]
  },
  {
   "cell_type": "code",
   "execution_count": null,
   "metadata": {},
   "outputs": [],
   "source": [
    "food = food[food.lat.notna() & food.lng.notna()]"
   ]
  },
  {
   "cell_type": "code",
   "execution_count": null,
   "metadata": {
    "collapsed": false
   },
   "outputs": [],
   "source": [
    "m = folium.Map(location = [38.54, -121.74], zoom_start = 11)\n",
    "\n",
    "cols = [\"FacilityName\", \"lat\", \"lng\"]\n",
    "for name, lat, lng in food[cols].itertuples(index = False):\n",
    "    popup = folium.Popup(name, parse_html = True)\n",
    "    folium.Marker([float(lat), float(lng)], popup = popup).add_to(m)\n",
    "\n",
    "fig = folium.Figure(width = 800, height = 400)\n",
    "fig.add_child(m)"
   ]
  },
  {
   "cell_type": "markdown",
   "metadata": {},
   "source": [
    "Folium can also display boundaries stored in GeoJSON files. See the README for more info.\n",
    "\n",
    "You can convert shapefiles to GeoJSON with geopandas.\n"
   ]
  },
  {
   "cell_type": "code",
   "execution_count": null,
   "metadata": {
    "collapsed": false
   },
   "outputs": [],
   "source": [
    "m = folium.Map(location = [37.76, -122.44], zoom_start = 12)\n",
    "m.choropleth(\"shapefiles/sf_neighborhoods.geojson\", fill_opacity = 0.2, fill_color = \"green\")\n",
    "\n",
    "fig = folium.Figure(width = 800, height = 400)\n",
    "fig.add_child(m)"
   ]
  },
  {
   "cell_type": "markdown",
   "metadata": {},
   "source": [
    "## Interactive Visualizations\n",
    "\n",
    "In order to make a visualization interactive, you need to run some code when the user clicks on a widget. The code can run _client-side_ on the user's machine, or _server-side_ on your server.\n",
    "\n",
    "For client-side interactivity:\n",
    "\n",
    "* Your code must be written in JavaScript.\n",
    "* You can host your visualization on any web server. No special setup is needed.\n",
    "* Your visualization will use the user's CPU and memory.\n",
    "\n",
    "For server-side interactivity:\n",
    "\n",
    "* Your code can be written in any language the server supports. This may require special setup.\n",
    "* Your visualization will use the server's CPU and memory.\n",
    "* You can update the data in real-time.\n",
    "* You can save data submitted by the user.\n",
    "\n",
    "Shiny is a server-side framework for R. There are lots of server-side frameworks for Python. Two of the most popular are [Django][django] and [Flask][flask].\n",
    "\n",
    "[django]: https://www.djangoproject.com/\n",
    "[flask]: http://flask.pocoo.org/"
   ]
  },
  {
   "cell_type": "markdown",
   "metadata": {},
   "source": [
    "### Client-side\n",
    "\n",
    "Client-side interactivity is cheaper to get started with because you can use a free web server (like GitHub Pages).\n",
    "\n",
    "Let's make the diamonds plot interactive so that the user can select which variables get plotted. Unfortunately, Bokeh charts don't work with interactivity, so we have to build the plot with simpler functions. We'll lose the color-coding, although you could still add that with a bit more work."
   ]
  },
  {
   "cell_type": "code",
   "execution_count": null,
   "metadata": {
    "collapsed": false
   },
   "outputs": [],
   "source": [
    "dogs.head()"
   ]
  },
  {
   "cell_type": "code",
   "execution_count": null,
   "metadata": {
    "collapsed": false
   },
   "outputs": [],
   "source": [
    "import bokeh.layouts\n",
    "from bokeh.models import ColumnDataSource, CustomJS, widgets\n",
    "from bokeh.plotting import figure, show\n",
    "\n",
    "original = ColumnDataSource(dogs)\n",
    "\n",
    "source = ColumnDataSource({\"x\": dogs[\"datadog\"], \"y\": dogs[\"popularity\"]})\n",
    "plt = figure(title = \"Dogs\", tools = [])\n",
    "plt.xaxis.axis_label = \"datadog\"\n",
    "plt.yaxis.axis_label = \"popularity\"\n",
    "\n",
    "plt.scatter(\"x\", \"y\", source = source, fill_alpha = 0.2)"
   ]
  },
  {
   "cell_type": "code",
   "execution_count": null,
   "metadata": {
    "collapsed": false
   },
   "outputs": [],
   "source": [
    "# Callback for x selector box.\n",
    "callback_x = CustomJS(args = {\"original\": original, \"source\": source, \"axis\": plt.xaxis[0]}, code = \"\"\"\n",
    "    // This is the JavaScript code that will run when the x selector box is changed.\n",
    "    \n",
    "    // You can use the alert() function to \"print\" values.\n",
    "    //alert(cb_obj.value);\n",
    "    \n",
    "    axis.axis_label = cb_obj.value;\n",
    "    source.data['x'] = original.data[cb_obj.value];\n",
    "    source.change.emit();\n",
    "\"\"\")\n",
    "\n",
    "# Callback for y selector box.\n",
    "callback_y = CustomJS(args = {\"original\": original, \"source\": source, \"axis\": plt.yaxis[0]}, code = \"\"\"\n",
    "    // This is the JavaScript code that will run when the y selector box is changed.\n",
    "    \n",
    "    axis.axis_label = cb_obj.value;\n",
    "    source.data['y'] = original.data[cb_obj.value];\n",
    "    source.change.emit();\n",
    "\"\"\")\n",
    "\n",
    "# Set up selector boxes.\n",
    "numeric_cols = [\"datadog\", \"popularity\", \"lifetime_cost\", \"longevity\"]\n",
    "sel_x = widgets.Select(title = \"x-axis\", options = numeric_cols, value = \"datadog\")\n",
    "sel_y = widgets.Select(title = \"y-axis\", options = numeric_cols, value = \"popularity\")\n",
    "\n",
    "sel_x.js_on_change(\"value\", callback_x)\n",
    "sel_y.js_on_change(\"value\", callback_y)\n",
    "\n",
    "# Position the selector boxes to the right of the plot.\n",
    "layout = bokeh.layouts.column(sel_x, sel_y)\n",
    "layout = bokeh.layouts.row(plt, layout)\n",
    "\n",
    "show(layout)"
   ]
  },
  {
   "cell_type": "markdown",
   "metadata": {},
   "source": [
    "### Server-side\n",
    "\n",
    "Server-side interactivity is a lot more flexible. Flask is a simple framework with great documentation, so it's easy to get started with.\n",
    "\n",
    "The core of a flask website (or \"app\") is a script with functions that return the text that should be displayed on each page.\n",
    "\n",
    "See `hello_app.py` for an example flask website."
   ]
  },
  {
   "cell_type": "markdown",
   "metadata": {},
   "source": [
    "#### Example: Query Slack\n",
    "\n",
    "As an example, let's make a flask website that displays recent messages from the class' Slack.\n",
    "\n",
    "First you need to [get a Slack API token][slack-apps]. Make sure it has the `channels:read` and `channels:history` permissions.\n",
    "\n",
    "Then you can use the `slackclient` package to query the Slack API.\n",
    "\n",
    "[slack-apps]: https://api.slack.com/apps"
   ]
  },
  {
   "cell_type": "code",
   "execution_count": null,
   "metadata": {},
   "outputs": [],
   "source": [
    "from slackclient import SlackClient\n",
    "\n",
    "with open(\"flask/slack_token\") as f:\n",
    "    slack_token = f.readline().strip()\n",
    "\n",
    "sc = SlackClient(slack_token)"
   ]
  },
  {
   "cell_type": "markdown",
   "metadata": {},
   "source": [
    "We'll display messages from the `#flask` channel.\n",
    "\n",
    "Slack tracks channels by ID, not name, so we need to get the channel ID.\n",
    "\n",
    "Use `channels.list` to get a list of public channels:"
   ]
  },
  {
   "cell_type": "code",
   "execution_count": null,
   "metadata": {},
   "outputs": [],
   "source": [
    "channels = sc.api_call(\"channels.list\")\n",
    "channels = channels[\"channels\"]"
   ]
  },
  {
   "cell_type": "code",
   "execution_count": null,
   "metadata": {},
   "outputs": [],
   "source": [
    "chan_id = next(x[\"id\"] for x in channels if x[\"name\"] == \"flask\")\n",
    "chan_id"
   ]
  },
  {
   "cell_type": "markdown",
   "metadata": {},
   "source": [
    "Now let's get the history of the channel:"
   ]
  },
  {
   "cell_type": "code",
   "execution_count": null,
   "metadata": {},
   "outputs": [],
   "source": [
    "history = sc.api_call(\"channels.history\", channel = chan_id)"
   ]
  },
  {
   "cell_type": "code",
   "execution_count": null,
   "metadata": {},
   "outputs": [],
   "source": [
    "messages = pd.DataFrame(history[\"messages\"])\n",
    "messages"
   ]
  },
  {
   "cell_type": "markdown",
   "metadata": {},
   "source": [
    "These steps are turned into a flask website in `slack_app.py`."
   ]
  }
 ],
 "metadata": {
  "kernelspec": {
   "display_name": "Python 3",
   "language": "python",
   "name": "python3"
  },
  "language_info": {
   "codemirror_mode": {
    "name": "ipython",
    "version": 3
   },
   "file_extension": ".py",
   "mimetype": "text/x-python",
   "name": "python",
   "nbconvert_exporter": "python",
   "pygments_lexer": "ipython3",
   "version": "3.6.4"
  }
 },
 "nbformat": 4,
 "nbformat_minor": 2
}
