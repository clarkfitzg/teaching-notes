{
 "cells": [
  {
   "cell_type": "markdown",
   "metadata": {
    "slideshow": {
     "slide_type": "slide"
    }
   },
   "source": [
    "# STA 160\n",
    "\n",
    "_Practice in Statistical Data Science_\n",
    "\n",
    "Course Website: <http://www.stat.ucdavis.edu/~duncan/sta160/>\n",
    "\n",
    "I'm your TA, Nick Ulle (<naulle@ucdavis.edu>).\n",
    "\n",
    "My office hours are 9-11am Monday in Shields 360."
   ]
  },
  {
   "cell_type": "markdown",
   "metadata": {
    "slideshow": {
     "slide_type": "slide"
    }
   },
   "source": [
    "## STA 160 is <span style=\"color:#cc0000\">not</span> about...\n",
    "\n",
    "* machine learning (STA 208 / ECS 171)\n",
    "\n",
    "* multivariate statistics (STA 135)\n",
    "\n",
    "* statistical computing (STA 141ab)\n",
    "\n",
    "* high-performance computing (STA 141c)\n",
    "\n",
    "...but some or all of these may be relevant to your project."
   ]
  },
  {
   "cell_type": "markdown",
   "metadata": {
    "slideshow": {
     "slide_type": "slide"
    }
   },
   "source": [
    "## We hope STA 160 helps you learn to...\n",
    "\n",
    "* create professional-quality reports and presentations\n",
    "\n",
    "* create and carry out plans to solve problems\n",
    "\n",
    "* collaborate with a group\n",
    "\n",
    "* learn things on your own\n"
   ]
  },
  {
   "cell_type": "markdown",
   "metadata": {
    "slideshow": {
     "slide_type": "slide"
    }
   },
   "source": [
    "## Piazza\n",
    "\n",
    "Many announcements and course materials will come through Piazza.\n",
    "\n",
    "Email me <span style=\"color:#cc0000\">RIGHT AWAY</span> if you're having trouble getting into the Piazza.\n",
    "\n",
    "Participation is also important (not just on Piazza)."
   ]
  },
  {
   "cell_type": "markdown",
   "metadata": {
    "slideshow": {
     "slide_type": "slide"
    }
   },
   "source": [
    "## What's the discussion section for?\n",
    "\n",
    "Things they didn't teach you in other classes.\n",
    "\n",
    "Later in the quarter, discussions will be office hours.\n",
    "\n"
   ]
  },
  {
   "cell_type": "markdown",
   "metadata": {
    "slideshow": {
     "slide_type": "slide"
    }
   },
   "source": [
    "## Tentative Discussion Topics\n",
    "\n",
    "* (Week 2) Version Control with git\n",
    "\n",
    "* (Week 3) The UNIX Shell\n",
    "\n",
    "* (Week 4) Presentation Skills\n",
    "\n",
    "* (?) Automation with Make\n",
    "\n",
    "* (?) Developing a Website\n",
    "\n",
    "Email me (at least 1 week in advance) if you want to suggest a topic."
   ]
  },
  {
   "cell_type": "markdown",
   "metadata": {
    "slideshow": {
     "slide_type": "slide"
    }
   },
   "source": [
    "## Topic Proposal\n",
    "\n",
    "Don't panic!\n",
    "\n",
    "2-paragraph topic proposal is credit/no credit.\n",
    "\n",
    "We might not use your topic.\n",
    "\n",
    "Don't panic!"
   ]
  },
  {
   "cell_type": "markdown",
   "metadata": {
    "slideshow": {
     "slide_type": "slide"
    }
   },
   "source": [
    "## Project Proposal\n",
    "\n",
    "Later this week you'll be assigned to topics in groups of 3.\n",
    "\n",
    "The first task is to write a project proposal.\n",
    "\n",
    "Tell us:\n",
    "\n",
    "* motivation & overview\n",
    "* timeline\n",
    "* milestones\n",
    "* technologies\n",
    "* related work\n",
    "\n",
    "Duncan will talk about this more in lecture as well."
   ]
  },
  {
   "cell_type": "markdown",
   "metadata": {
    "slideshow": {
     "slide_type": "slide"
    }
   },
   "source": [
    "## Project Proposal -- Motivation & Overview\n",
    "\n",
    "Tell us more about who would be interested in your project.\n",
    "\n",
    "What's the big-picture goal of your project?\n",
    "\n",
    "Who benefits from your project?\n",
    "\n",
    "How do you plan to approach the project?"
   ]
  },
  {
   "cell_type": "markdown",
   "metadata": {
    "slideshow": {
     "slide_type": "slide"
    }
   },
   "source": [
    "## Project Proposal -- Timeline\n",
    "\n",
    "How do you plan to use your time?\n",
    "\n",
    "First draft of report due week 8, final draft due week 10.\n",
    "\n",
    "Don't forget to plan for:\n",
    "* short weekly status reports\n",
    "* mid-quarter presentation\n",
    "* final presentation\n",
    "* project website\n",
    "* learning new technologies\n",
    "* actually working on your project\n",
    "\n",
    "Be specific (but also realistic) about days and people needed to complete tasks."
   ]
  },
  {
   "cell_type": "markdown",
   "metadata": {
    "slideshow": {
     "slide_type": "slide"
    }
   },
   "source": [
    "## Project Proposal -- Milestones\n",
    "\n",
    "What are the specific goals of your project?\n",
    "\n",
    "What might go wrong?\n",
    "\n",
    "If something goes wrong at week X, what can you do to salvage the project?\n",
    "\n",
    "What results can you still deliver?"
   ]
  },
  {
   "cell_type": "markdown",
   "metadata": {
    "slideshow": {
     "slide_type": "slide"
    }
   },
   "source": [
    "## Project Proposal -- Technologies\n",
    "\n",
    "Technologies can mean:\n",
    "\n",
    "* statistical methods\n",
    "\n",
    "* algorithms\n",
    "\n",
    "* software packages\n",
    "\n",
    "What technologies do you expect to use in your project? Explain _why_ and _how_.\n",
    "\n",
    "Think about the big picture, not the details!"
   ]
  },
  {
   "cell_type": "markdown",
   "metadata": {
    "slideshow": {
     "slide_type": "slide"
    }
   },
   "source": [
    "## Project Proposal -- Related Work\n",
    "\n",
    "What have other people done that's relevant or _useful_ for your project?\n",
    "\n",
    "Justify why the related work is actually relevant or useful. A poor justification:\n",
    "\n",
    "    My project \"How to Wrangle Cats\" is about CATS and this article \"Do Cats Attract Fleas?\"\n",
    "    is also about CATS, so it must be relevant!\n",
    "\n",
    "Use Google, Google Scholar, etc. to find related work. Not required to be journal articles.\n",
    "\n",
    "The purpose is to show that you checked up on prior work, not to have a long list of references."
   ]
  },
  {
   "cell_type": "markdown",
   "metadata": {
    "slideshow": {
     "slide_type": "slide"
    }
   },
   "source": [
    "## Next Week's Discussion\n",
    "\n",
    "* navigating in the terminal\n",
    "\n",
    "* git basics (more than in STA 141b)\n",
    "\n",
    "* reproducibility\n",
    "\n",
    "If possible, bring a laptop with [git][] installed.\n",
    "\n",
    "[git]: https://git-scm.com/"
   ]
  },
  {
   "cell_type": "code",
   "execution_count": null,
   "metadata": {},
   "outputs": [],
   "source": []
  }
 ],
 "metadata": {
  "celltoolbar": "Slideshow",
  "kernelspec": {
   "display_name": "Python 3",
   "language": "python",
   "name": "python3"
  },
  "language_info": {
   "codemirror_mode": {
    "name": "ipython",
    "version": 3
   },
   "file_extension": ".py",
   "mimetype": "text/x-python",
   "name": "python",
   "nbconvert_exporter": "python",
   "pygments_lexer": "ipython3",
   "version": "3.6.4"
  }
 },
 "nbformat": 4,
 "nbformat_minor": 2
}
